{
 "cells": [
  {
   "cell_type": "markdown",
   "metadata": {
    "Collapsed": "false"
   },
   "source": [
    "<img src='./img/LogoWekeo_Copernicus_RGB_0.png' alt='Logo EU Copernicus EUMETSAT' align='right' width='20%'></img>"
   ]
  },
  {
   "cell_type": "markdown",
   "metadata": {
    "Collapsed": "false"
   },
   "source": [
    "<a href=\"./00_index.ipynb\"><< Index</a><br>\n",
    "<a href=\"./20_Sentinel5P_TROPOMI_NO2_L2_retrieve.ipynb\"><< 20 - Sentinel-5P NO<sub>2</sub> - Nitrogen Dioxide - Retrieve</a>"
   ]
  },
  {
   "cell_type": "markdown",
   "metadata": {},
   "source": [
    "<div class=\"alert alert-block alert-warning\">\n",
    "<b>LOAD, BROWSE AND VISUALIZE</b></div>"
   ]
  },
  {
   "cell_type": "markdown",
   "metadata": {
    "Collapsed": "false"
   },
   "source": [
    "# Copernicus Sentinel-5 Precursor (Sentinel-5P) - NO<sub>2</sub>"
   ]
  },
  {
   "cell_type": "markdown",
   "metadata": {
    "Collapsed": "false"
   },
   "source": [
    "The subsequent example introduces you to Sentinel-5P data in general and the total column of NO<sub>2</sub> sensed by Sentinel-5P in specific. NO<sub>2</sub> is useful for monitoring air pollution. The example is based on elevated nitrogen dioxide levels in Europe which occurred in February 2021.\n"
   ]
  },
  {
   "cell_type": "markdown",
   "metadata": {
    "Collapsed": "false"
   },
   "source": [
    "#### Module outline:\n",
    "* [1 - Load and browse Sentinel-5P TROPOMI data](#load_s5P)\n",
    "* [2 - Create a geographical subset](#geographical_subset)\n",
    "* [3 - Visualize Sentinel-5P NO<sub>2</sub> data](#visualize_s5P)"
   ]
  },
  {
   "cell_type": "markdown",
   "metadata": {
    "Collapsed": "false"
   },
   "source": [
    "#### Load required libraries"
   ]
  },
  {
   "cell_type": "code",
   "execution_count": null,
   "metadata": {
    "Collapsed": "false"
   },
   "outputs": [],
   "source": [
    "%matplotlib inline\n",
    "import os\n",
    "import xarray as xr\n",
    "import numpy as np\n",
    "import netCDF4 as nc\n",
    "\n",
    "import matplotlib.pyplot as plt\n",
    "from matplotlib.colors import LogNorm\n",
    "import cartopy.crs as ccrs\n",
    "from cartopy.mpl.gridliner import LONGITUDE_FORMATTER, LATITUDE_FORMATTER\n",
    "import cartopy.feature as cfeature\n",
    "\n",
    "import subprocess\n",
    "import shlex\n",
    "import zipfile\n",
    "\n",
    "from matplotlib.axes import Axes\n",
    "from cartopy.mpl.geoaxes import GeoAxes\n",
    "GeoAxes._pcolormesh_patched = Axes.pcolormesh"
   ]
  },
  {
   "cell_type": "markdown",
   "metadata": {},
   "source": [
    "#### Load helper functions"
   ]
  },
  {
   "cell_type": "code",
   "execution_count": null,
   "metadata": {},
   "outputs": [],
   "source": [
    "%run ./functions.ipynb"
   ]
  },
  {
   "cell_type": "markdown",
   "metadata": {
    "Collapsed": "false"
   },
   "source": [
    "<hr>"
   ]
  },
  {
   "cell_type": "markdown",
   "metadata": {},
   "source": [
    "### Decompressing Sentinel-3 OLCI Level 1B Full Resolution data"
   ]
  },
  {
   "cell_type": "markdown",
   "metadata": {},
   "source": [
    "The Sentinel-5P TROPOMI data could be not available on the machine. In this case there is the method to download them to [20 - Sentinel-5 TROPOMI NO2_Level 2 Retrieve](./20_Sentinel5P_TROPOMI_NO2_L2_retrieve.ipynb).\n",
    "\n",
    "Also the user must extract the data before load them, if they are provided as a zip archive. If you have an already decompressed data this step is not necessary and the data can be directly loaded."
   ]
  },
  {
   "cell_type": "code",
   "execution_count": null,
   "metadata": {},
   "outputs": [],
   "source": [
    "#rename S5 file\n",
    "download_dir_path = os.getcwd()\n",
    "\n",
    "for item in os.listdir(download_dir_path):\n",
    "    if not os.path.isdir(item):\n",
    "        cmd = shlex.split('file --mime-type {0}'.format(item))\n",
    "        result = subprocess.check_output(cmd)\n",
    "        mime_type = result.split()[-1]\n",
    "        if item.startswith('S5P_OFFL_L2_') and not item.endswith('.zip') and mime_type == b'application/zip':\n",
    "            os.rename(os.path.join(download_dir_path, item), os.path.join(download_dir_path, item +\".zip\"))"
   ]
  },
  {
   "cell_type": "markdown",
   "metadata": {},
   "source": [
    "In case you have permission issues when renaming the archive with the code above, please manually do that by right-clicking the file, then rename, then add .zip to the end of the filename.\n",
    "\n",
    "For example:\n",
    "- From: S5P_OFFL_L2__NO2____20210205T104439_20210205T122609_17182_01_010400_20210207T042548   \n",
    "- To: S5P_OFFL_L2__NO2____20210205T104439_20210205T122609_17182_01_010400_20210207T042548.zip"
   ]
  },
  {
   "cell_type": "code",
   "execution_count": null,
   "metadata": {},
   "outputs": [],
   "source": [
    "extension = \".zip\"\n",
    "\n",
    "for item in os.listdir(download_dir_path): # loop through items in dir\n",
    "    if item.endswith(extension): # check for \".zip\" extension\n",
    "        file_name = os.path.join(download_dir_path, item) # get full path of files\n",
    "        zip_ref = zipfile.ZipFile(file_name) # create zipfile object\n",
    "        zip_ref.extractall(download_dir_path) # extract file to dir\n",
    "        zip_ref.close() # close file\n",
    "        "
   ]
  },
  {
   "cell_type": "markdown",
   "metadata": {
    "Collapsed": "false"
   },
   "source": [
    "## <a id=\"load_s5P\"></a>Load and browse Sentinel-5P data"
   ]
  },
  {
   "cell_type": "markdown",
   "metadata": {},
   "source": [
    "A Sentinel-5P file is organised in two groups: `PRODUCT` and `METADATA`. The `PRODUCT` group stores the main data fields of the product, including `latitude`, `longitude` and the variable itself. The `METADATA` group provides additional metadata items.\n",
    "\n",
    "Sentinel-5P variables have the following dimensions:\n",
    "* `scanline`: the number of measurements in the granule / along-track dimension index\n",
    "* `ground_pixel`: the number of spectra in a measurement / across-track dimension index\n",
    "* `time`: time reference for the data\n",
    "* `corner`: pixel corner index\n",
    "* `layer`: this dimension indicates the vertical grid of profile variables\n",
    "\n",
    "Sentinel-5P TROPOMI data is disseminated in `netCDF`. You can load a `netCDF` file with the `open_dataset()` function of the xarray library. In order to load the variable as part of a Sentinel-5P data files, you have to specify the following keyword arguments: \n",
    "- `group='PRODUCT'`: to load the `PRODUCT` group\n",
    "\n",
    "Let us load a Sentinel-5P TROPOMI data file as `xarray.Dataset` from 5 February 2021 and inspect the data structure:\n"
   ]
  },
  {
   "cell_type": "code",
   "execution_count": null,
   "metadata": {
    "Collapsed": "false"
   },
   "outputs": [],
   "source": [
    "s5P = xr.open_dataset('./S5P_OFFL_L2__NO2____20210205T104439_20210205T122609_17182_01_010400_20210207T042548/S5P_OFFL_L2__NO2____20210205T104439_20210205T122609_17182_01_010400_20210207T042548.nc', group='PRODUCT')\n",
    "s5P"
   ]
  },
  {
   "cell_type": "markdown",
   "metadata": {
    "Collapsed": "false"
   },
   "source": [
    "You see that a Sentinel-5P data file consists of eight dimensions and twelve data variables:\n",
    "\n",
    "* **Dimensions**:\n",
    "  * `scanline` \n",
    "  * `ground_pixel`\n",
    "  * `time`\n",
    "  * `corner`\n",
    "  * `polynomial_exponents`\n",
    "  * `intensity_offset_polynomial_exponents`\n",
    "  * `layer`\n",
    "  * `vertices`"
   ]
  },
  {
   "cell_type": "markdown",
   "metadata": {},
   "source": [
    "* **Data variables**:\n",
    "  * `delta_time`: the offset of individual measurements within the granule, given in milliseconds\n",
    "  * `time_utc`: valid time stamp of the data\n",
    "  * `qa_value`: quality descriptor, varying between 0 (nodata) and 1 (full quality data).\n",
    "  * `nitrogendioxide_tropospheric_column`: Vertically integrated NO<sub>2</sub> column density\n",
    "  * `nitrogendioxide_tropospheric_column_precision`: Standard error of the vertically integrated NO<sub>2</sub> column\n",
    "  \n",
    "  As well as a few other variables:\n",
    "  * `nitrogendioxide_tropospheric_column_precision_kernel`\n",
    "  * `averaging_kernel`\n",
    "  * `air_mass_factor_troposphere`\n",
    "  * `air_mass_factor_total`\n",
    "  * `tm5_tropopause_layer_index`\n",
    "  * `tm5_constant_a`\n",
    "  * `tm5_constant_b`"
   ]
  },
  {
   "cell_type": "markdown",
   "metadata": {
    "Collapsed": "false"
   },
   "source": [
    "You can specify one variable of interest and get more detailed information about the variable. E.g. `nitrogendioxide_total_column` is the atmosphere mole content of NO<sub>2</sub>, has the unit `mol m-2` (which means `mol per m2`), and has three dimensions, `time`, `scanline` and `groundpixel` respectively."
   ]
  },
  {
   "cell_type": "code",
   "execution_count": null,
   "metadata": {},
   "outputs": [],
   "source": [
    "s5P_no2 = s5P['nitrogendioxide_tropospheric_column']\n",
    "s5P_no2"
   ]
  },
  {
   "cell_type": "markdown",
   "metadata": {},
   "source": [
    "You can do this for the available variables, but also for the dimensions latitude and longitude."
   ]
  },
  {
   "cell_type": "code",
   "execution_count": null,
   "metadata": {},
   "outputs": [],
   "source": [
    "latitude = s5P_no2.latitude\n",
    "latitude"
   ]
  },
  {
   "cell_type": "markdown",
   "metadata": {
    "Collapsed": "false"
   },
   "source": [
    "<br>"
   ]
  },
  {
   "cell_type": "code",
   "execution_count": null,
   "metadata": {},
   "outputs": [],
   "source": [
    "longitude = s5P_no2.longitude\n",
    "longitude"
   ]
  },
  {
   "cell_type": "markdown",
   "metadata": {
    "Collapsed": "false"
   },
   "source": [
    "You can retrieve the array values of the variable with squared bracket: `[:,:,:]`. One single time step can be selected by specifying one value of the time dimension, e.g. `[0,:,:]`."
   ]
  },
  {
   "cell_type": "code",
   "execution_count": null,
   "metadata": {},
   "outputs": [],
   "source": [
    "s5P_no2_0502 = s5P_no2[0,:,:]\n",
    "s5P_no2_0502"
   ]
  },
  {
   "cell_type": "markdown",
   "metadata": {},
   "source": [
    "The attributes of the data array hold the entry `multiplication_factor_to_convert_to_molecules_percm2`, which is a conversion factor that has to be applied to convert the data from `mol per m2` to `molecules per cm2`.\n"
   ]
  },
  {
   "cell_type": "code",
   "execution_count": null,
   "metadata": {},
   "outputs": [],
   "source": [
    "conversion_factor = s5P_no2_0502.multiplication_factor_to_convert_to_molecules_percm2\n",
    "conversion_factor"
   ]
  },
  {
   "cell_type": "markdown",
   "metadata": {},
   "source": [
    "Additionally, you can save the attribute `longname`, which you can make use of when visualizing the data."
   ]
  },
  {
   "cell_type": "code",
   "execution_count": null,
   "metadata": {
    "Collapsed": "false"
   },
   "outputs": [],
   "source": [
    "longname = s5P_no2_0502.long_name\n",
    "longname"
   ]
  },
  {
   "cell_type": "markdown",
   "metadata": {
    "Collapsed": "false"
   },
   "source": [
    "## <a id='geographical_subset'></a>Create  a geographical subset"
   ]
  },
  {
   "cell_type": "markdown",
   "metadata": {
    "Collapsed": "false"
   },
   "source": [
    "You can zoom into a region by specifying a `bounding box` of interest. Let's set the extent to Europe with the following bounding box information:"
   ]
  },
  {
   "cell_type": "code",
   "execution_count": null,
   "metadata": {},
   "outputs": [],
   "source": [
    "latmin = 28.\n",
    "latmax = 71.\n",
    "lonmin = -22.\n",
    "lonmax = 43"
   ]
  },
  {
   "cell_type": "markdown",
   "metadata": {},
   "source": [
    "You can use the function [generate_geographical_subset()](./functions.ipynb#generate_geographical_subset) to subset an xarray DataArray based on a given bounding box."
   ]
  },
  {
   "cell_type": "code",
   "execution_count": null,
   "metadata": {},
   "outputs": [],
   "source": [
    "s5P_no2_subset = generate_geographical_subset(s5P_no2_0502, latmin, latmax, lonmin, lonmax)\n",
    "s5P_no2_subset"
   ]
  },
  {
   "cell_type": "markdown",
   "metadata": {
    "Collapsed": "false"
   },
   "source": [
    "<br>"
   ]
  },
  {
   "cell_type": "markdown",
   "metadata": {
    "Collapsed": "false"
   },
   "source": [
    "## <a id=\"plotting_s5P\"></a>Plotting example - Sentinel-5P TROPOMI data"
   ]
  },
  {
   "cell_type": "markdown",
   "metadata": {
    "Collapsed": "false"
   },
   "source": [
    "You can plot data arrays of type `numpy` with matplotlib's `pcolormesh` function. In combination with the library [cartopy](https://scitools.org.uk/cartopy/docs/latest/), you can produce high-quality maps. "
   ]
  },
  {
   "cell_type": "markdown",
   "metadata": {
    "Collapsed": "false"
   },
   "source": [
    "In order to make it easier to visualize the NO<sub>2</sub> values, we apply the conversion factor to the DataArray. This converts the NO<sub>2</sub> values from mol per m<sup>2</sup> to molecules per cm<sup>2</sup>."
   ]
  },
  {
   "cell_type": "code",
   "execution_count": null,
   "metadata": {},
   "outputs": [],
   "source": [
    "s5P_no2_converted = s5P_no2_subset*conversion_factor\n",
    "s5P_no2_converted"
   ]
  },
  {
   "cell_type": "markdown",
   "metadata": {},
   "source": [
    "The next step is to visualize the dataset. You can use the function [visualize_pcolormesh](../functions.ipynb#visualize_pcolormesh), which makes use of matploblib's function `pcolormesh` and the [Cartopy](https://scitools.org.uk/cartopy/docs/latest/) library.\n",
    "\n",
    "With `?visualize_pcolormesh` you can open the function's docstring to see what keyword arguments are needed to prepare your plot."
   ]
  },
  {
   "cell_type": "code",
   "execution_count": null,
   "metadata": {},
   "outputs": [],
   "source": [
    "?visualize_pcolormesh"
   ]
  },
  {
   "cell_type": "markdown",
   "metadata": {},
   "source": [
    "Now, let us apply the [visualize_pcolormesh](./functions#visualize_pcolormesh) function and visualize the vertically integrated NO<sub>2</sub> column sensored from the Sentinel-5P satellite on 5 February 2021.\n",
    "\n",
    "Note: Multiplying the `DataArray` values with `1e-15` improves the readibility of the map legend."
   ]
  },
  {
   "cell_type": "code",
   "execution_count": null,
   "metadata": {},
   "outputs": [],
   "source": [
    "visualize_pcolormesh(data_array=s5P_no2_converted*1e-15,\n",
    "                     longitude=s5P_no2_converted.longitude,\n",
    "                     latitude=s5P_no2_converted.latitude,\n",
    "                     projection=ccrs.PlateCarree(),\n",
    "                     color_scale='viridis',\n",
    "                     unit='*1e-15 molecules per cm2',\n",
    "                     long_name=longname + ' ' + str(s5P_no2_converted.time.data),\n",
    "                     vmin=0,\n",
    "                     vmax=35,\n",
    "                     lonmin=lonmin,\n",
    "                     lonmax=lonmax,\n",
    "                     latmin=latmin,\n",
    "                     latmax=latmax,\n",
    "                     set_global=False)"
   ]
  },
  {
   "cell_type": "markdown",
   "metadata": {
    "Collapsed": "false"
   },
   "source": [
    "<br>"
   ]
  },
  {
   "cell_type": "markdown",
   "metadata": {
    "Collapsed": "false"
   },
   "source": [
    "<a href=\"./00_index.ipynb\"><< Index</a><br>\n",
    "<a href=\"./20_Sentinel5P_TROPOMI_NO2_L2_retrieve.ipynb\"> << 20 - Sentinel-5P NO<sub>2</sub> - Nitrogen Dioxide - Retrieve</a>"
   ]
  },
  {
   "cell_type": "markdown",
   "metadata": {
    "Collapsed": "false"
   },
   "source": [
    "<hr>"
   ]
  },
  {
   "cell_type": "markdown",
   "metadata": {
    "Collapsed": "false"
   },
   "source": [
    "<p><img src='./img/all_partners_wekeo.png' align='left' alt='Logo EU Copernicus' width='100%'></img><p>"
   ]
  }
 ],
 "metadata": {
  "kernelspec": {
   "display_name": "Python 3 (ipykernel)",
   "language": "python",
   "name": "python3"
  },
  "language_info": {
   "codemirror_mode": {
    "name": "ipython",
    "version": 3
   },
   "file_extension": ".py",
   "mimetype": "text/x-python",
   "name": "python",
   "nbconvert_exporter": "python",
   "pygments_lexer": "ipython3",
   "version": "3.8.6"
  }
 },
 "nbformat": 4,
 "nbformat_minor": 4
}
