{
 "cells": [
  {
   "cell_type": "markdown",
   "metadata": {},
   "source": [
    "<img src='./img/LogoWekeo_Copernicus_RGB_0.png' alt='Logo EU Copernicus EUMETSAT' align='right' width='20%'></img>"
   ]
  },
  {
   "cell_type": "markdown",
   "metadata": {},
   "source": [
    "# WEkEO Webinar #7 - Air Quality using Copernicus Sentinel data"
   ]
  },
  {
   "cell_type": "markdown",
   "metadata": {},
   "source": [
    "This training is dedicated to atmospheric composition data available on `WEkEO` and features `Sentinel-5P TROPOMI` data as well as data from the `Coperncius Atmosphere Monitoring Service`."
   ]
  },
  {
   "cell_type": "markdown",
   "metadata": {},
   "source": [
    "## Course Overview"
   ]
  },
  {
   "cell_type": "markdown",
   "metadata": {},
   "source": [
    "#### Copernicus Atmosphere Monitoring Service (CAMS) Global Reanalysis (EAC4)\n",
    "- [CAMS European air quality forecast - Nitrogen Dioxide - Retrieve](./10_cams_european_air_quality_forecast_retrieve.ipynb)\n",
    "- [CAMS European air quality forecast - Nitrogen Dioxide - Load and browse](./11_cams_european_air_quality_forecast_NO2_load_browse.ipynb)\n",
    "\n",
    "#### Sentinel-5P TROPOMI\n",
    "- [Sentinel-5P TROPOMI Nitrogen Dioxide Level 2 - Retrieve](./20_Sentinel5P_TROPOMI_NO2_L2_retrieve.ipynb)\n",
    "- [Sentinel-5P TROPOMI Nitrogen Dioxide Level 2 - Load and browse](./21_Sentinel5P_TROPOMI_NO2_L2_load_browse.ipynb)"
   ]
  },
  {
   "cell_type": "markdown",
   "metadata": {},
   "source": [
    "<br>"
   ]
  },
  {
   "cell_type": "markdown",
   "metadata": {},
   "source": [
    "<hr>"
   ]
  },
  {
   "cell_type": "markdown",
   "metadata": {},
   "source": [
    "<img src='./img/all_partners_wekeo.png' alt='Logo EU Copernicus EUMETSAT' align='right' width='100%'></img>"
   ]
  }
 ],
 "metadata": {
  "kernelspec": {
   "display_name": "Python 3",
   "language": "python",
   "name": "python3"
  },
  "language_info": {
   "codemirror_mode": {
    "name": "ipython",
    "version": 3
   },
   "file_extension": ".py",
   "mimetype": "text/x-python",
   "name": "python",
   "nbconvert_exporter": "python",
   "pygments_lexer": "ipython3",
   "version": "3.7.0"
  }
 },
 "nbformat": 4,
 "nbformat_minor": 4
}
