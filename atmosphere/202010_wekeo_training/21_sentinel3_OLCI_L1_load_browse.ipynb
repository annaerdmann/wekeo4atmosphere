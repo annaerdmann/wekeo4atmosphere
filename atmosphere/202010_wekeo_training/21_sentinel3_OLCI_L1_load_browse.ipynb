{
 "cells": [
  {
   "cell_type": "markdown",
   "metadata": {},
   "source": [
    "<img src='./img/LogoWekeo_Copernicus_RGB_0.png' alt='Logo EU Copernicus EUMETSAT' align='right' width='20%'></img>"
   ]
  },
  {
   "cell_type": "markdown",
   "metadata": {},
   "source": [
    "<br>"
   ]
  },
  {
   "cell_type": "markdown",
   "metadata": {},
   "source": [
    "<a href=\"./00_index.ipynb\"><< Index</a><br>\n",
    "<a href=\"./20_sentinel3_olci_l1_retrieve.ipynb\"><< 20 - Sentinel-3 OLCI Level 1B - Retrieve</a><span style=\"float:right;\"><a href=\"./30_cams_eac4_retrieve.ipynb\">30 - CAMS Glocal Reanalysis EAC4 - Retrieve >></a></span>"
   ]
  },
  {
   "cell_type": "markdown",
   "metadata": {},
   "source": [
    "<div class=\"alert alert-block alert-warning\">\n",
    "<b>LOAD, BROWSE AND VISUALIZE</b></div>"
   ]
  },
  {
   "cell_type": "markdown",
   "metadata": {},
   "source": [
    "# Sentinel-3 OLCI Level 1B Full Resolution data"
   ]
  },
  {
   "cell_type": "markdown",
   "metadata": {},
   "source": [
    "Sentinel-3 OLCI Level 1B data products are available as Full (`OL_1_EFR`) and Reduced Resolution (`OL_1_ERR`) data files. The following notebook shows you how `OL_1_EFR` data are structured and how you can generate a RGB (Red, Green, Blue) True- and False-Color image.\n",
    "\n",
    "True-Color images combine reflectances from the red, green and blue light and resulting images look like real-world images. False-Color composites combine reflectances from the visible (light) and non-visible wavelengths. Depending on the application, specific features might be better identifiable as a false-color composite. \n",
    "\n",
    "Sentinel-3 OLCI data products are disseminated as `.zip archives`, containing data files in `NetCDF` format.\n",
    "\n",
    "Find more information on the OLCI data products in the [Sentinel-3 OLCI User Guide](https://sentinel.esa.int/web/sentinel/user-guides/sentinel-3-olci)."
   ]
  },
  {
   "cell_type": "markdown",
   "metadata": {},
   "source": [
    "### Outline\n",
    "* [1 - Load and browse Sentinel-3 OLCI Level 1B data](#load_browse)\n",
    "* [2 - Load OLCI channel information as xarray](#channel_info)\n",
    "* [3 - Load OLCI geographic coordinates as xarray](#load_geo_coords)\n",
    "* [4 - Select OLCI channels for a RGB image](#channel_select)\n",
    "* [5 - Advanced image processing - Normalization and histogram equalization](#image_processing)\n",
    "* [6 - Visualize a georeferenced RGB True Color image with pcolormesh](#visualize_tc)\n",
    "* [7 - Create a False Color RGB image and plot it as georeferenced image ](#false_color)"
   ]
  },
  {
   "cell_type": "markdown",
   "metadata": {},
   "source": [
    "<hr>"
   ]
  },
  {
   "cell_type": "markdown",
   "metadata": {},
   "source": [
    "#### Load required libraries"
   ]
  },
  {
   "cell_type": "code",
   "execution_count": null,
   "metadata": {},
   "outputs": [],
   "source": [
    "import xarray as xr\n",
    "import numpy as np\n",
    "import matplotlib.pyplot as plt\n",
    "\n",
    "import cartopy.crs as ccrs\n",
    "from cartopy.mpl.gridliner import LONGITUDE_FORMATTER, LATITUDE_FORMATTER\n",
    "import cartopy.feature as cfeature\n",
    "from skimage import exposure\n",
    "\n",
    "import glob\n",
    "import os\n",
    "import subprocess\n",
    "import shlex\n",
    "import zipfile\n",
    "\n",
    "import warnings\n",
    "warnings.filterwarnings('ignore')\n",
    "warnings.simplefilter(action = \"ignore\", category = RuntimeWarning)"
   ]
  },
  {
   "cell_type": "markdown",
   "metadata": {},
   "source": [
    "<hr>"
   ]
  },
  {
   "cell_type": "markdown",
   "metadata": {},
   "source": [
    "### Decompressing Sentinel-3 OLCI Level 1B Full Resolution data"
   ]
  },
  {
   "cell_type": "markdown",
   "metadata": {},
   "source": [
    "The Sentinel-3 OLCI Level 1B data could be not available on the machine. In this case there is the method to download them to [20 - Sentinel-3 OLCI Level 1B Retrieve](./20_sentinel3_olci_l1_retrieve.ipynb).\n",
    "\n",
    "Also the user must extract the data before load them, if they are provided as a zip archive. If you have an already decompressed data this step is not necessary and the data can be directly loaded."
   ]
  },
  {
   "cell_type": "code",
   "execution_count": null,
   "metadata": {},
   "outputs": [],
   "source": [
    "#rename S3 file\n",
    "download_dir_path = os.getcwd()\n",
    "\n",
    "for item in os.listdir(download_dir_path): \n",
    "    if not os.path.isdir(item):\n",
    "        cmd = shlex.split('file --mime-type {0}'.format(item))\n",
    "        result = subprocess.check_output(cmd)\n",
    "        mime_type = result.split()[-1]\n",
    "        if item.startswith('S3B_OL_1_') and not item.endswith('.zip') and mime_type == b'application/zip':\n",
    "            os.rename(os.path.join(download_dir_path, item), os.path.join(download_dir_path, item +\".zip\"))"
   ]
  },
  {
   "cell_type": "markdown",
   "metadata": {},
   "source": [
    "In case you have permission issues when renaming the archive with the code above, please manually do that by right-clicking the file, then rename, then add .zip to the end of the filename.\n",
    "\n",
    "For example:\n",
    "- From: S3B_OL_1_EFR____20211103T225931_20211103T230231_20211105T023456_0179_059_001_3600_MAR_O_NT_002   \n",
    "- To: S3B_OL_1_EFR____20211103T225931_20211103T230231_20211105T023456_0179_059_001_3600_MAR_O_NT_002.zip"
   ]
  },
  {
   "cell_type": "code",
   "execution_count": null,
   "metadata": {},
   "outputs": [],
   "source": [
    "extension = \".zip\"\n",
    "\n",
    "for item in os.listdir(download_dir_path): # loop through items in dir\n",
    "    if item.endswith(extension): # check for \".zip\" extension\n",
    "        file_name = os.path.join(download_dir_path, item) # get full path of files\n",
    "        zip_ref = zipfile.ZipFile(file_name) # create zipfile object\n",
    "        zip_ref.extractall(download_dir_path) # extract file to dir\n",
    "        zip_ref.close() # close file\n",
    "        "
   ]
  },
  {
   "cell_type": "markdown",
   "metadata": {},
   "source": [
    "## <a id='load_browse'></a>Load and browse Sentinel-3 OLCI Level 1B Full Resolution data"
   ]
  },
  {
   "cell_type": "markdown",
   "metadata": {},
   "source": [
    "Sentinel-3 OLCI Level 1B data are dissiminated as `.zip archives` when downloaded. The unzipped folder contains 29 data files in `netCDF` format. Data for each channel is stored in a single `netCDF` file. Additionally, you get information on `qualityFlags`, `time_coordinates` or `geo_coordinates`.\n",
    "\n",
    "You can see the names of the 29 data files by looping through the data directory. OLCI has 21 spectral bands representing reflectances from optical to the near-infrared wavelength. Each spectral band is represented in a channel. The files that end with `_radiance.nc` contain the reflectance information for each channel."
   ]
  },
  {
   "cell_type": "code",
   "execution_count": null,
   "metadata": {},
   "outputs": [],
   "source": [
    "olci_dir = './S3B_OL_1_EFR____20211103T225931_20211103T230231_20211105T023456_0179_059_001_3600_MAR_O_NT_002.SEN3/'\n",
    "for i in glob.glob(olci_dir+'*.nc'):\n",
    "    tmp = i.split('/')\n",
    "    print(tmp[2])"
   ]
  },
  {
   "cell_type": "markdown",
   "metadata": {},
   "source": [
    "## <a id='channel_info'></a>Load OLCI channel information as `xarray`"
   ]
  },
  {
   "cell_type": "markdown",
   "metadata": {},
   "source": [
    "#### Load one single channel"
   ]
  },
  {
   "cell_type": "markdown",
   "metadata": {},
   "source": [
    "As a first step, you can load one channel (spectral band) with xarray's function `xr.open_dataset()`. This will help you to understand how the data is structured.\n",
    "You see that the data for each channel is a two dimensional data array, with `rows` and `columns` as dimensions. "
   ]
  },
  {
   "cell_type": "code",
   "execution_count": null,
   "metadata": {},
   "outputs": [],
   "source": [
    "olci_xr = xr.open_dataset(olci_dir+'Oa01_radiance.nc')\n",
    "olci_xr"
   ]
  },
  {
   "cell_type": "markdown",
   "metadata": {},
   "source": [
    "#### Load all channel information into one xarray object"
   ]
  },
  {
   "cell_type": "markdown",
   "metadata": {},
   "source": [
    "The next step is to bring the 21 data files of the spectral bands (channels) together into one `xarray` data object. You can do this with xarray's function `open_mfdataset`. Since all channel files have the same data structure, you can combine all channels by coordinates using the keyword argument `by_coords`. The result is a `xarray` object with 21 data variables. Each channel is represented as a data variable."
   ]
  },
  {
   "cell_type": "code",
   "execution_count": null,
   "metadata": {},
   "outputs": [],
   "source": [
    "olci_xr_mf = xr.open_mfdataset(olci_dir+'*_radiance.nc', combine='by_coords')\n",
    "olci_xr_mf"
   ]
  },
  {
   "cell_type": "markdown",
   "metadata": {},
   "source": [
    "#### Example to plot one channel"
   ]
  },
  {
   "cell_type": "markdown",
   "metadata": {},
   "source": [
    "To get an impression of one spectral band, you can simply plot one channel of the xarray object with xarray's function  `.plot.imshow()`. Let us plot channel 8 `Oa08_radiance` as an example. The example shows that you can easily visualize the the spectral band information, but without geographic information."
   ]
  },
  {
   "cell_type": "code",
   "execution_count": null,
   "metadata": {},
   "outputs": [],
   "source": [
    "fig = plt.figure(figsize=(10,6))\n",
    "olci_xr_mf['Oa08_radiance'].plot.imshow()"
   ]
  },
  {
   "cell_type": "markdown",
   "metadata": {},
   "source": [
    "## <a id='load_geo_coords'></a>Load OLCI geographic coordinates as `xarray`"
   ]
  },
  {
   "cell_type": "markdown",
   "metadata": {},
   "source": [
    "If you want to georeference your image, you have to load the geographic coordinates file. You can load it as xarray with the function `xr.open_dataset()`. The file is called `geo_coordinates.nc`. You see that the file contains three variables: `latitude`, `longitude` and `altitude`. Latitude and longitude are the geographical coordinates. Altitude is the DEM corrected altitude of the 'Top-of-the-atmosphere' reflectance.\n",
    "\n",
    "Let's store the latitude and longitude data as `lat` and `lon` variables respectively."
   ]
  },
  {
   "cell_type": "code",
   "execution_count": null,
   "metadata": {},
   "outputs": [],
   "source": [
    "olci_geo_coords = xr.open_dataset(olci_dir+'geo_coordinates.nc')\n",
    "olci_geo_coords"
   ]
  },
  {
   "cell_type": "code",
   "execution_count": null,
   "metadata": {},
   "outputs": [],
   "source": [
    "lat = olci_geo_coords.latitude.data\n",
    "lon = olci_geo_coords.longitude.data"
   ]
  },
  {
   "cell_type": "markdown",
   "metadata": {},
   "source": [
    "## <a id='channel_select'></a>Select OLCI channels for a True-Color RGB image"
   ]
  },
  {
   "cell_type": "markdown",
   "metadata": {},
   "source": [
    "True-Color images combine reflectances from the `red` (B04), `green` (B06) and `blue` (B04) light and resulting images look like real-world images, representing the Earth as humans see it naturally.\n",
    "\n",
    "\n",
    " The channel combination for a True-Color RGB (Red, Green, Blue) image of Sentinel-3 OLCI Level 1B data could be:\n",
    "- Red: `Oa08_radiance`\n",
    "- Green: `Oa06_radiance`\n",
    "- Blue: `Oa04_radiance`\n",
    "\n",
    "Alternatively, you can also try the combination `red` (B09), `green` (B06) and `blue` (B04).\n",
    "\n",
    "Let us define a function called [select_channels_for_rgb](./functions.ipynb#rgb_channels), which makes the channel selection more flexible. The function returns the three bands individually."
   ]
  },
  {
   "cell_type": "code",
   "execution_count": null,
   "metadata": {},
   "outputs": [],
   "source": [
    "def select_channels_for_rgb(xarray, red_channel, green_channel, blue_channel):\n",
    "    \"\"\" \n",
    "    Selects the channels / bands of a multi-dimensional xarray for red, green and blue composites.\n",
    "    \n",
    "    Parameters:\n",
    "        xarray(xarray Dataset): xarray Dataset object that stores the different channels / bands.\n",
    "        red_channel(str): Name of red channel to be selected\n",
    "        green_channel(str): Name of green channel to be selected\n",
    "        blue_channel(str): Name of blue channel to be selected\n",
    "\n",
    "    Returns:\n",
    "        Three xarray DataArray objects with selected channels / bands\n",
    "    \"\"\"  \n",
    "    return xarray[red_channel], xarray[green_channel], xarray[blue_channel]"
   ]
  },
  {
   "cell_type": "code",
   "execution_count": null,
   "metadata": {
    "scrolled": true
   },
   "outputs": [],
   "source": [
    "red, green, blue = select_channels_for_rgb(olci_xr_mf, 'Oa08_radiance', 'Oa06_radiance', 'Oa04_radiance')\n",
    "red"
   ]
  },
  {
   "cell_type": "markdown",
   "metadata": {},
   "source": [
    "## <a id='image_processing'></a>Advanced image processing - Normalization and histogram equalization"
   ]
  },
  {
   "cell_type": "markdown",
   "metadata": {},
   "source": [
    "#### Normalization"
   ]
  },
  {
   "cell_type": "markdown",
   "metadata": {},
   "source": [
    "A common operation in image processing is the normalization of data values. Normalization changes the range of pixel intensity and can improve the contrast.\n",
    "Let us define a function called [normalize](./functions.ipynb#normalize), which normalizes a numpy array into a scale between 0.0 and 1.0."
   ]
  },
  {
   "cell_type": "code",
   "execution_count": null,
   "metadata": {},
   "outputs": [],
   "source": [
    "def normalize(array):\n",
    "    \"\"\" \n",
    "    Normalizes a numpy array / xarray DataArray object value to values between 0 and 1.\n",
    "    \n",
    "    Parameters:\n",
    "        xarray(numpy array or xarray DataArray): xarray DataArray or numpy array object.\n",
    "\n",
    "    Returns:\n",
    "        Normalized array\n",
    "    \"\"\" \n",
    "    array_min, array_max = array.min(), array.max()\n",
    "    return ((array - array_min)/(array_max - array_min))"
   ]
  },
  {
   "cell_type": "markdown",
   "metadata": {},
   "source": [
    "You can now apply the function [normalize](./functions.ipynb#normalize) to each RGB channel, **red**, **green** and **blue**. At the end, you can bring the three channels together into one `rgb` array with `numpy.dstack`. By verifying the shape of the resulting array, you see that the resulting `rgb` array has three dimensions, `rows`, `columns` and `number of channels`."
   ]
  },
  {
   "cell_type": "code",
   "execution_count": null,
   "metadata": {},
   "outputs": [],
   "source": [
    "redn = normalize(red)\n",
    "greenn = normalize(green)\n",
    "bluen = normalize(blue)"
   ]
  },
  {
   "cell_type": "code",
   "execution_count": null,
   "metadata": {},
   "outputs": [],
   "source": [
    "rgb = np.dstack((redn, greenn, bluen))\n",
    "rgb.shape"
   ]
  },
  {
   "cell_type": "markdown",
   "metadata": {},
   "source": [
    "You can now plot the **rgb** image to see if maybe further image processing methods could be applied. If you visualize the image with `plt.imshow()`, you see that the constrast is not very strong. A further step is to sharpen the contrast with the help of a **Histogram equalization**."
   ]
  },
  {
   "cell_type": "code",
   "execution_count": null,
   "metadata": {},
   "outputs": [],
   "source": [
    "fig = plt.figure(figsize=(10,6))\n",
    "plt.imshow(rgb)"
   ]
  },
  {
   "cell_type": "markdown",
   "metadata": {},
   "source": [
    "#### Histogram equalization"
   ]
  },
  {
   "cell_type": "markdown",
   "metadata": {},
   "source": [
    "Histogram equalization is a method in image processing that adjusts the contrast using the image's histogram. Python's `skikit-learn` library has useful tools to make a histogram equalization. The `skimage` library provides a function `exposure.equalize_adaphtist()` which can be applied to the **rgb** data array."
   ]
  },
  {
   "cell_type": "code",
   "execution_count": null,
   "metadata": {},
   "outputs": [],
   "source": [
    "rgb = exposure.equalize_adapthist(rgb)"
   ]
  },
  {
   "cell_type": "markdown",
   "metadata": {},
   "source": [
    "You can again plot the rgb image with `plt.imshow()`. You can see that the histogram equalization improved the contrast of the image."
   ]
  },
  {
   "cell_type": "code",
   "execution_count": null,
   "metadata": {},
   "outputs": [],
   "source": [
    "fig = plt.figure(figsize=(10,6))\n",
    "plt.imshow(rgb)"
   ]
  },
  {
   "cell_type": "markdown",
   "metadata": {},
   "source": [
    "## <a id='visualize_tc'></a>Visualize a georeferenced RGB True-Color image with `pcolormesh`"
   ]
  },
  {
   "cell_type": "markdown",
   "metadata": {},
   "source": [
    "The final step is to georeference the `RGB` image. Therefore, you need the extracted `lat` and `lon` information extracted above.\n",
    "\n",
    "Let us plot the image with matplotlib's `pcolormesh` function. To be able to visualize the array as RGB True Color images, you have to map first the rgb array to a colour array."
   ]
  },
  {
   "cell_type": "code",
   "execution_count": null,
   "metadata": {},
   "outputs": [],
   "source": [
    "mesh_rgb = rgb[:,:-1,:]\n",
    "colorTuple = mesh_rgb.reshape((mesh_rgb.shape[0] * mesh_rgb.shape[1]), 3)"
   ]
  },
  {
   "cell_type": "markdown",
   "metadata": {},
   "source": [
    "The last step is to visualize the color array and add additional information, e.g. gridlines and coastlines. As you want to reuse the plotting code again, you can define a function and call it [visualize_s3_pcolormesh](./functions.ipynb#visualize_s3_pcolormesh)."
   ]
  },
  {
   "cell_type": "code",
   "execution_count": null,
   "metadata": {},
   "outputs": [],
   "source": [
    "def visualize_s3_pcolormesh(color_array, array, latitude, longitude, title):\n",
    "    \"\"\" \n",
    "    Visualizes a numpy array (Sentinel-3 data) with matplotlib's 'pcolormesh' function as RGB image.\n",
    "    \n",
    "    Parameters:\n",
    "        color_array (numpy.ndarray): a numpy.ndarray holding the color tuples to be used to colorize the image\n",
    "        array (xarray.DataArray): an xarray.DataArray that provides the shape of the resulting array to be plotted\n",
    "        longitude (numpy.ndarray): array with longitude values\n",
    "        latitude (numpy.ndarray) : array with latitude values\n",
    "        title (str): title of the resulting plot\n",
    "    \"\"\"\n",
    "    fig=plt.figure(figsize=(20, 12))\n",
    "\n",
    "    ax=plt.axes(projection=ccrs.Mercator())\n",
    "    ax.coastlines()\n",
    "\n",
    "    gl = ax.gridlines(draw_labels=True, linestyle='--')\n",
    "    gl.xformatter=LONGITUDE_FORMATTER\n",
    "    gl.yformatter=LATITUDE_FORMATTER\n",
    "    gl.xlabel_style={'size':14}\n",
    "    gl.ylabel_style={'size':14}\n",
    "\n",
    "    img1 = plt.pcolormesh(longitude, latitude, array*np.nan, color=color_array,\n",
    "                          clip_on = True,\n",
    "                          edgecolors=None,\n",
    "                          zorder=0,\n",
    "                          transform=ccrs.PlateCarree())\n",
    "    ax.set_title(title, fontsize=20, pad=40.0)\n",
    "    plt.show()"
   ]
  },
  {
   "cell_type": "markdown",
   "metadata": {},
   "source": [
    "As color_array, we use the `colorTuple` array and as array we use the shape of e.g. the `red` channel information."
   ]
  },
  {
   "cell_type": "code",
   "execution_count": null,
   "metadata": {},
   "outputs": [],
   "source": [
    "visualize_s3_pcolormesh(colorTuple,red, lat, lon, 'Sentinel-3 OLCI Level-1 True Color RGB - \"29 December 2019\"')"
   ]
  },
  {
   "cell_type": "markdown",
   "metadata": {},
   "source": [
    "<br>"
   ]
  },
  {
   "cell_type": "markdown",
   "metadata": {},
   "source": [
    "## <a id='false_color'></a>Create a False Color RGB image and plot it as georeferenced image "
   ]
  },
  {
   "cell_type": "markdown",
   "metadata": {},
   "source": [
    "Instead of a true-color RGB image, a false-color RGB image can be created if specific phenomena should be highlighted. A channel combination to highlight smoke and fires from Sentinel-3 OLCI Level 1B data could be:\n",
    "- Red: `Oa17_radiance`\n",
    "- Green: `Oa05_radiance`\n",
    "- Blue: `Oa02_radiance`\n",
    "\n",
    "This selection identifies easier burnt areas and wildfires. The combination highlights healthy vegetation as red and burnt areas as black.\n",
    "\n",
    "Let's repeat the steps from above to visualize the image as False Color RGB composite."
   ]
  },
  {
   "cell_type": "markdown",
   "metadata": {},
   "source": [
    "#### Select RGB channels"
   ]
  },
  {
   "cell_type": "markdown",
   "metadata": {},
   "source": [
    "The first step is to select the channels `Oa17_radiance`, `Oa05_radiance` and `Oa02_radiance` as red, green and blue channels respectively."
   ]
  },
  {
   "cell_type": "code",
   "execution_count": null,
   "metadata": {},
   "outputs": [],
   "source": [
    "red_fc, green_fc, blue_fc = select_channels_for_rgb(olci_xr_mf, 'Oa17_radiance', 'Oa05_radiance', 'Oa02_radiance')"
   ]
  },
  {
   "cell_type": "markdown",
   "metadata": {},
   "source": [
    "#### Normalize"
   ]
  },
  {
   "cell_type": "markdown",
   "metadata": {},
   "source": [
    "You also want to normalize these channels and stack them afterwards into a three-dimensional array."
   ]
  },
  {
   "cell_type": "code",
   "execution_count": null,
   "metadata": {},
   "outputs": [],
   "source": [
    "redn_fc = normalize(red_fc)\n",
    "greenn_fc = normalize(green_fc)\n",
    "bluen_fc = normalize(blue_fc)"
   ]
  },
  {
   "cell_type": "code",
   "execution_count": null,
   "metadata": {},
   "outputs": [],
   "source": [
    "rgb_fc = np.dstack((redn_fc, greenn_fc, bluen_fc))"
   ]
  },
  {
   "cell_type": "markdown",
   "metadata": {},
   "source": [
    "#### Histogram equalization"
   ]
  },
  {
   "cell_type": "markdown",
   "metadata": {},
   "source": [
    "Apply histogram equalization."
   ]
  },
  {
   "cell_type": "code",
   "execution_count": null,
   "metadata": {},
   "outputs": [],
   "source": [
    "rgb_fc = exposure.equalize_adapthist(rgb_fc)"
   ]
  },
  {
   "cell_type": "markdown",
   "metadata": {},
   "source": [
    "Let's have a sneak-peak to the un-georefrenced image with `plt.imshow()`"
   ]
  },
  {
   "cell_type": "code",
   "execution_count": null,
   "metadata": {},
   "outputs": [],
   "source": [
    "fig = plt.figure(figsize=(10,6))\n",
    "plt.imshow(rgb_fc)"
   ]
  },
  {
   "cell_type": "markdown",
   "metadata": {},
   "source": [
    "#### Visualize with function `visualize_s3_pcolormesh`"
   ]
  },
  {
   "cell_type": "markdown",
   "metadata": {},
   "source": [
    "First, map the stacked rgb array to a colour array and call it **colorTuple**."
   ]
  },
  {
   "cell_type": "code",
   "execution_count": null,
   "metadata": {},
   "outputs": [],
   "source": [
    "mesh_rgb = rgb_fc[:, :-1, :]\n",
    "colorTuple = mesh_rgb.reshape((mesh_rgb.shape[0] * mesh_rgb.shape[1]), 3)\n",
    "colorTuple = np.insert(colorTuple, 3, 1.0, axis=1)"
   ]
  },
  {
   "cell_type": "markdown",
   "metadata": {},
   "source": [
    "As a final step, visualize the geo-referenced false-colour RGB composite with the function [visualize_s3_pcolormesh](./functions.ipynb#visualize_s3_pcolormesh)."
   ]
  },
  {
   "cell_type": "code",
   "execution_count": null,
   "metadata": {},
   "outputs": [],
   "source": [
    "visualize_s3_pcolormesh(colorTuple, red_fc, lat, lon, 'Sentinel-3 OLCI Level-1 False Color RGB - \"29 December 2019\"')"
   ]
  },
  {
   "cell_type": "markdown",
   "metadata": {},
   "source": [
    "<br>"
   ]
  },
  {
   "cell_type": "markdown",
   "metadata": {},
   "source": [
    "<a href=\"./00_index.ipynb\"><< Index</a><br>\n",
    "<a href=\"./20_sentinel3_olci_l1_retrieve.ipynb\"><< 20 - Sentinel-3 OLCI Level 1B - Retrieve</a><span style=\"float:right;\"><a href=\"./30_cams_eac4_retrieve.ipynb\">30 - CAMS Glocal Reanalysis EAC4 - Retrieve >></a></span>"
   ]
  },
  {
   "cell_type": "markdown",
   "metadata": {},
   "source": [
    "<hr>"
   ]
  },
  {
   "cell_type": "markdown",
   "metadata": {},
   "source": [
    "<img src='./img/all_partners_wekeo.png' alt='Logo EU Copernicus EUMETSAT' align='right' width='100%'></img>"
   ]
  }
 ],
 "metadata": {
  "kernelspec": {
   "display_name": "Python 3 (ipykernel)",
   "language": "python",
   "name": "python3"
  },
  "language_info": {
   "codemirror_mode": {
    "name": "ipython",
    "version": 3
   },
   "file_extension": ".py",
   "mimetype": "text/x-python",
   "name": "python",
   "nbconvert_exporter": "python",
   "pygments_lexer": "ipython3",
   "version": "3.8.6"
  }
 },
 "nbformat": 4,
 "nbformat_minor": 4
}
