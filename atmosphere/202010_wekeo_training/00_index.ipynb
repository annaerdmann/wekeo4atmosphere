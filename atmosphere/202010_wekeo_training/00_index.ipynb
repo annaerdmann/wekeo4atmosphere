{
 "cells": [
  {
   "cell_type": "markdown",
   "metadata": {},
   "source": [
    "<img src='./img/LogoWekeo_Copernicus_RGB_0.png' alt='Logo EU Copernicus EUMETSAT' align='right' width='20%'></img>"
   ]
  },
  {
   "cell_type": "markdown",
   "metadata": {},
   "source": [
    "# WEkEO Training Workshop - Focus on atmospheric data products"
   ]
  },
  {
   "cell_type": "markdown",
   "metadata": {},
   "source": [
    "This training is dedicated to atmospheric composition data available on `WEkEO` and features data from `Sentinel-5p`, `Sentinel-3` and the `Copernicus Atmosphere Monitoring Service`."
   ]
  },
  {
   "cell_type": "markdown",
   "metadata": {},
   "source": [
    "## Training outline"
   ]
  },
  {
   "cell_type": "markdown",
   "metadata": {},
   "source": [
    "The training consists of two parts:\n",
    "- **Training Workshop | 8 October 2020 - 10:30-12:00 CET**\n",
    "\n",
    "- **Debriefing Session | 29 October 2020 - 10:30-12:00 CET**"
   ]
  },
  {
   "cell_type": "markdown",
   "metadata": {},
   "source": [
    "Between the two sessions, we invite you to work and practise with the Jupyter notebooks available on WEkEO in a self-paced manner. Any questions that arise during this period, please submit via this [form](https://docs.google.com/forms/d/1bTh9yGlTGTP5TsQi-Itt6bz6-6TJoNUrRUrloYwL_cM/viewform?edit_requested=true#start=invite). "
   ]
  },
  {
   "cell_type": "markdown",
   "metadata": {},
   "source": [
    "## Some more information"
   ]
  },
  {
   "cell_type": "markdown",
   "metadata": {},
   "source": [
    "### How to clone repositories from Github"
   ]
  },
  {
   "cell_type": "markdown",
   "metadata": {},
   "source": [
    "The training material has been made available for you under the `/public/` data folder. In general, if you wish to import any coding examples from Github, you can type in the following command in a terminal:"
   ]
  },
  {
   "cell_type": "markdown",
   "metadata": {},
   "source": [
    "> `cd public`<br>\n",
    "> `bash wekeo-git-clone.sh https://github.com/wekeo/wekeo-jupyter-lab.git`"
   ]
  },
  {
   "cell_type": "markdown",
   "metadata": {},
   "source": [
    "The example above clones the Github repository [wekeo/wekeo-jupyter-lab](https://github.com/wekeo/wekeo-jupyter-lab) that offers the training material. For this training, you will not need to clone it, as the material is being made available for you in the `/public/` folder."
   ]
  },
  {
   "cell_type": "markdown",
   "metadata": {},
   "source": [
    "### Uninstall and re-install 'shapely'"
   ]
  },
  {
   "cell_type": "markdown",
   "metadata": {},
   "source": [
    "Due to an incompatibility issue with Python's library [Cartopy](https://scitools.org.uk/cartopy/docs/latest/) and if you want to take full advantage of the visualization functions offered in the training, you have to open a terminal and execute the following two lines:"
   ]
  },
  {
   "cell_type": "markdown",
   "metadata": {},
   "source": [
    "> `pip uninstall shapely`<br>\n",
    "> `pip install --no-binary shapely shapely`"
   ]
  },
  {
   "cell_type": "markdown",
   "metadata": {},
   "source": [
    "The above code uninstalls the shapely library and installs it with a new version that is compatibly with Cartopy."
   ]
  },
  {
   "cell_type": "markdown",
   "metadata": {},
   "source": [
    "## Questions "
   ]
  },
  {
   "cell_type": "markdown",
   "metadata": {},
   "source": [
    "### Training and atmospheric composition data\n",
    "Questions related to the training and atmospheric composition data:\n",
    "- Submit your questions in this [Google Form](https://docs.google.com/forms/d/1bTh9yGlTGTP5TsQi-Itt6bz6-6TJoNUrRUrloYwL_cM/viewform?edit_requested=true#start=invite)\n",
    "\n",
    "During the debriefing session, we will address these questions.\n",
    "\n",
    "### WEkEO\n",
    "Please address any questions related to WEkEO:\n",
    "- via email: support@wekeo.eu or\n",
    "- via the WEkEO support desk webform: https://www.wekeo.eu/support"
   ]
  },
  {
   "cell_type": "markdown",
   "metadata": {},
   "source": [
    "<hr>"
   ]
  },
  {
   "cell_type": "markdown",
   "metadata": {},
   "source": [
    "## Course Overview"
   ]
  },
  {
   "cell_type": "markdown",
   "metadata": {},
   "source": [
    "#### Overview of atmospheric data products on WEkEO\n",
    "- [Atmospheric data products on WEkEO - Overview](./01_wekeo_atmosphere_data_overview.ipynb)\n",
    "\n",
    "#### Sentinel-5P TROPOMI\n",
    "- [Sentinel-5P Level 2 Carbon Monoxide - Retrieve](./10_sentinel5p_L2_retrieve.ipynb)\n",
    "- [Sentinel-5P Level 2 Carbon Monoxide - Load and browse](./11_sentinel5p_L2_load_browse.ipynb)\n",
    "\n",
    "#### Sentinel-3 OLCI Level-1B RGB\n",
    "- [Sentinel-3 OLCI Level 1 RGB - Retrieve](./20_sentinel3_OLCI_L1_retrieve.ipynb)\n",
    "- [Sentinel-3 OLCI Level 1 RGB - Load and browse](./21_sentinel3_OLCI_L1_load_browse.ipynb)\n",
    "\n",
    "#### Copernicus Atmosphere Monitoring Service (CAMS) Global Reanalysis (EAC4)\n",
    "- [CAMS Global Reanalysis (EAC4) - Retrieve](./30_cams_eac4_retrieve.ipynb)\n",
    "- [CAMS Global Reanalysis (EAC4) - Load and browse](./31_cams_eac4_load_browse.ipynb)"
   ]
  },
  {
   "cell_type": "markdown",
   "metadata": {},
   "source": [
    "<hr>"
   ]
  },
  {
   "cell_type": "markdown",
   "metadata": {},
   "source": [
    "<img src='./img/all_partners_wekeo.png' alt='Logo EU Copernicus EUMETSAT' align='right' width='100%'></img>"
   ]
  }
 ],
 "metadata": {
  "kernelspec": {
   "display_name": "Python 3 (ipykernel)",
   "language": "python",
   "name": "python3"
  },
  "language_info": {
   "codemirror_mode": {
    "name": "ipython",
    "version": 3
   },
   "file_extension": ".py",
   "mimetype": "text/x-python",
   "name": "python",
   "nbconvert_exporter": "python",
   "pygments_lexer": "ipython3",
   "version": "3.8.6"
  }
 },
 "nbformat": 4,
 "nbformat_minor": 4
}
